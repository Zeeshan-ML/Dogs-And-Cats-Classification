{
 "cells": [
  {
   "cell_type": "markdown",
   "id": "7a86962f-a497-4324-9462-7a0588fe5944",
   "metadata": {},
   "source": [
    "# Splitting Dataset into Training, Validation and Testing Directories"
   ]
  },
  {
   "cell_type": "code",
   "execution_count": 1,
   "id": "aac98a0f-559b-4bc0-a351-151219ea70b5",
   "metadata": {},
   "outputs": [],
   "source": [
    "import numpy as np\n",
    "from sklearn.model_selection import train_test_split\n",
    "import os\n",
    "import shutil\n",
    "from PIL import Image"
   ]
  },
  {
   "cell_type": "code",
   "execution_count": 2,
   "id": "2cb005b2-a7c5-42be-9b56-e20a72dba655",
   "metadata": {},
   "outputs": [],
   "source": [
    "dataset_dir = 'E:\\\\Jupyter Directory\\\\Deep Learning\\\\Image Classification Project\\\\Image Data Classification\\\\PetImages'\n",
    "base_dir = 'E:\\\\Jupyter Directory\\\\Deep Learning\\\\Image Classification Project\\\\Image Data Classification\\\\split_dataset'"
   ]
  },
  {
   "cell_type": "code",
   "execution_count": 3,
   "id": "41fb6c84-dbf5-4f20-b628-677e3ba1b359",
   "metadata": {},
   "outputs": [],
   "source": [
    "train_dir = os.path.join(base_dir,'train')\n",
    "validation_dir = os.path.join(base_dir,'validation')\n",
    "test_dir = os.path.join(base_dir,'test')"
   ]
  },
  {
   "cell_type": "code",
   "execution_count": 4,
   "id": "cacdbffc-3f1a-42c1-908e-793d41c36af5",
   "metadata": {},
   "outputs": [],
   "source": [
    "os.makedirs(base_dir, exist_ok=True)"
   ]
  },
  {
   "cell_type": "code",
   "execution_count": 8,
   "id": "874a7d0e-7aca-4160-84f1-9848b5f9bf41",
   "metadata": {},
   "outputs": [],
   "source": [
    "for category in ['Cat', 'Dog']:\n",
    "    os.makedirs(os.path.join(train_dir,category), exist_ok=True)\n",
    "    os.makedirs(os.path.join(validation_dir,category),exist_ok=True)\n",
    "    os.makedirs(os.path.join(test_dir,category),exist_ok=True)"
   ]
  },
  {
   "cell_type": "code",
   "execution_count": 14,
   "id": "82296557-277e-4bb9-94a9-cbf8cb26808b",
   "metadata": {},
   "outputs": [],
   "source": [
    "def split_data(category, split_ratio=(0.8,0.1,0.1)):\n",
    "    src_dir = os.path.join(dataset_dir,category)\n",
    "    images = os.listdir(src_dir)\n",
    "    train_images,val_test_images = train_test_split(images,test_size=0.2)\n",
    "    val_images, test_images = train_test_split(val_test_images, test_size = 0.5)\n",
    "\n",
    "    for img in train_images:\n",
    "        shutil.copy(os.path.join(src_dir,img),os.path.join(train_dir,category,img))\n",
    "    for img in val_images:\n",
    "        shutil.copy(os.path.join(src_dir,img), os.path.join(validation_dir,category,img))\n",
    "    for img in test_images:\n",
    "        shutil.copy(os.path.join(src_dir,img),os.path.join(test_dir,category,img))"
   ]
  },
  {
   "cell_type": "code",
   "execution_count": 15,
   "id": "7c8f72fc-8744-4f59-9727-a9298cba7d25",
   "metadata": {},
   "outputs": [],
   "source": [
    "split_data('Cat')\n",
    "split_data('Dog')"
   ]
  },
  {
   "cell_type": "markdown",
   "id": "13ed95b3-e56c-4020-95d8-a5373cdac4e8",
   "metadata": {},
   "source": [
    "# Removing Corrupt Images"
   ]
  },
  {
   "cell_type": "code",
   "execution_count": 19,
   "id": "669b3296-fbbe-4d27-9002-d1d1368f3ad5",
   "metadata": {},
   "outputs": [],
   "source": [
    "img_dir = 'E:\\\\Jupyter Directory\\\\Deep Learning\\\\Image Classification Project\\\\Image Data Classification\\\\split_dataset'\n",
    "\n",
    "def is_image_file(filepath):\n",
    "    \"\"\"Check if a file is a valid image.\"\"\"\n",
    "    try:\n",
    "        with Image.open(filepath) as img:\n",
    "            img.verify() \n",
    "        return True\n",
    "    except (IOError, SyntaxError) as e:\n",
    "        print(f\"Invalid image file: {filepath}\")\n",
    "        return False\n",
    "\n",
    "def clean_directory(directory):\n",
    "    \"\"\"Clean invalid images from the directory, including subdirectories.\"\"\"\n",
    "    for root, dirs, files in os.walk(directory, topdown=False):\n",
    "        for file in files:\n",
    "            filepath = os.path.join(root, file)\n",
    "            if not is_image_file(filepath):\n",
    "                try:\n",
    "                    os.remove(filepath)\n",
    "                except PermissionError as e:\n",
    "                    print(f\"Permission error while removing file: {e}\")\n",
    "        for dir in dirs:\n",
    "            dirpath = os.path.join(root, dir)\n",
    "            if not os.listdir(dirpath):\n",
    "                try:\n",
    "                    os.rmdir(dirpath)\n",
    "                except PermissionError as e:\n",
    "                    print(f\"Permission error while removing directory: {e}\")\n",
    "clean_directory(img_dir)\n"
   ]
  }
 ],
 "metadata": {
  "kernelspec": {
   "display_name": "Python 3 (ipykernel)",
   "language": "python",
   "name": "python3"
  },
  "language_info": {
   "codemirror_mode": {
    "name": "ipython",
    "version": 3
   },
   "file_extension": ".py",
   "mimetype": "text/x-python",
   "name": "python",
   "nbconvert_exporter": "python",
   "pygments_lexer": "ipython3",
   "version": "3.10.14"
  }
 },
 "nbformat": 4,
 "nbformat_minor": 5
}
