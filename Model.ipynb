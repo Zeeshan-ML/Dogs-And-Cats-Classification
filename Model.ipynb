{
 "cells": [
  {
   "cell_type": "markdown",
   "id": "07027578-1e19-4d4f-af17-a84b58c80879",
   "metadata": {},
   "source": [
    "# Importing Libraries"
   ]
  },
  {
   "cell_type": "code",
   "execution_count": 2,
   "id": "f061ff16-5afd-4719-9813-6fd11fa42abc",
   "metadata": {},
   "outputs": [],
   "source": [
    "import numpy as np\n",
    "import tensorflow as tf\n",
    "from tensorflow.keras.preprocessing.image import ImageDataGenerator\n",
    "from tensorflow.keras.models import Sequential\n",
    "from tensorflow.keras.layers import Conv2D, MaxPooling2D, Flatten, Dense, Dropout\n",
    "import matplotlib.pyplot as plt\n",
    "from sklearn.model_selection import train_test_split\n",
    "import os\n",
    "import shutil\n",
    "from tensorflow.keras.callbacks import EarlyStopping, ReduceLROnPlateau\n",
    "from tensorflow.keras.preprocessing import image\n",
    "from tensorflow.keras.optimizers import Adam"
   ]
  },
  {
   "cell_type": "markdown",
   "id": "d03fe57c-0210-41b5-b355-b63362d05426",
   "metadata": {},
   "source": [
    "# Path of Dataset"
   ]
  },
  {
   "cell_type": "code",
   "execution_count": 2,
   "id": "8ca959f0-39fc-4a52-a55b-34f5555163d6",
   "metadata": {},
   "outputs": [],
   "source": [
    "base_dir = 'E:\\\\Jupyter Directory\\\\Deep Learning\\\\Image Classification Project\\\\Image Data Classification\\\\split_dataset'\n",
    "train_dir = os.path.join(base_dir, 'train')\n",
    "validation_dir = os.path.join(base_dir, 'validation')\n",
    "test_dir = os.path.join(base_dir, 'test')"
   ]
  },
  {
   "cell_type": "markdown",
   "id": "becafe6d-8f48-40fa-ace3-477abbf870ad",
   "metadata": {},
   "source": [
    "# Preprocessing"
   ]
  },
  {
   "cell_type": "code",
   "execution_count": 3,
   "id": "6ec07843-c410-43b2-bf0c-719ee90015f3",
   "metadata": {},
   "outputs": [],
   "source": [
    "validation_datagen = ImageDataGenerator(rescale=1./255)\n",
    "test_datagen = ImageDataGenerator(rescale=1./255)"
   ]
  },
  {
   "cell_type": "code",
   "execution_count": 4,
   "id": "7b8c397a-2ec5-47ad-ab4f-1a80b2060434",
   "metadata": {},
   "outputs": [],
   "source": [
    "train_datagen = ImageDataGenerator(\n",
    "    rescale=1./255,\n",
    "    shear_range=0.2,\n",
    "    zoom_range=0.2,\n",
    "    horizontal_flip=True,\n",
    "    rotation_range=30,\n",
    "    width_shift_range=0.2,\n",
    "    height_shift_range=0.2,\n",
    "    brightness_range=[0.7, 1.3]\n",
    ")"
   ]
  },
  {
   "cell_type": "code",
   "execution_count": 5,
   "id": "1aa31afa-7aa0-4f49-a7cc-16d5a355fcb8",
   "metadata": {},
   "outputs": [
    {
     "name": "stdout",
     "output_type": "stream",
     "text": [
      "Found 2498 images belonging to 2 classes.\n"
     ]
    }
   ],
   "source": [
    "val_generator = validation_datagen.flow_from_directory(\n",
    "    validation_dir,\n",
    "    target_size=(150,150),\n",
    "    batch_size = 128,\n",
    "    class_mode = 'binary'\n",
    ")"
   ]
  },
  {
   "cell_type": "code",
   "execution_count": 6,
   "id": "2a99b783-814b-4904-8bb7-f9a442910d46",
   "metadata": {},
   "outputs": [
    {
     "name": "stdout",
     "output_type": "stream",
     "text": [
      "Found 2501 images belonging to 2 classes.\n"
     ]
    }
   ],
   "source": [
    "test_generator = test_datagen.flow_from_directory(\n",
    "    test_dir,\n",
    "    target_size=(150,150),\n",
    "    batch_size = 128,\n",
    "    class_mode = 'binary'\n",
    ")"
   ]
  },
  {
   "cell_type": "code",
   "execution_count": 7,
   "id": "96889107-e11b-4f4d-b959-1c6f43cb0ade",
   "metadata": {},
   "outputs": [
    {
     "name": "stdout",
     "output_type": "stream",
     "text": [
      "Found 19999 images belonging to 2 classes.\n"
     ]
    }
   ],
   "source": [
    "train_generator = train_datagen.flow_from_directory(\n",
    "    train_dir,\n",
    "    target_size=(150,150),\n",
    "    batch_size = 128,\n",
    "    class_mode = 'binary'\n",
    ")"
   ]
  },
  {
   "cell_type": "markdown",
   "id": "6d8483ae-0bae-4129-830c-269b416fb8d6",
   "metadata": {},
   "source": [
    "# CNN Model"
   ]
  },
  {
   "cell_type": "code",
   "execution_count": 1,
   "id": "b1b79ff9-4222-401f-bc0b-a68471573d0c",
   "metadata": {
    "scrolled": true
   },
   "outputs": [
    {
     "ename": "NameError",
     "evalue": "name 'Sequential' is not defined",
     "output_type": "error",
     "traceback": [
      "\u001b[1;31m---------------------------------------------------------------------------\u001b[0m",
      "\u001b[1;31mNameError\u001b[0m                                 Traceback (most recent call last)",
      "Cell \u001b[1;32mIn[1], line 1\u001b[0m\n\u001b[1;32m----> 1\u001b[0m model \u001b[38;5;241m=\u001b[39m \u001b[43mSequential\u001b[49m([\n\u001b[0;32m      2\u001b[0m     Conv2D(\u001b[38;5;241m32\u001b[39m,(\u001b[38;5;241m3\u001b[39m,\u001b[38;5;241m3\u001b[39m), activation\u001b[38;5;241m=\u001b[39m\u001b[38;5;124m'\u001b[39m\u001b[38;5;124mrelu\u001b[39m\u001b[38;5;124m'\u001b[39m,input_shape\u001b[38;5;241m=\u001b[39m(\u001b[38;5;241m150\u001b[39m,\u001b[38;5;241m150\u001b[39m,\u001b[38;5;241m3\u001b[39m)),\n\u001b[0;32m      3\u001b[0m     MaxPooling2D((\u001b[38;5;241m2\u001b[39m,\u001b[38;5;241m2\u001b[39m)),\n\u001b[0;32m      4\u001b[0m     Conv2D(\u001b[38;5;241m64\u001b[39m,(\u001b[38;5;241m3\u001b[39m,\u001b[38;5;241m3\u001b[39m), activation \u001b[38;5;241m=\u001b[39m \u001b[38;5;124m'\u001b[39m\u001b[38;5;124mrelu\u001b[39m\u001b[38;5;124m'\u001b[39m),\n\u001b[0;32m      5\u001b[0m     MaxPooling2D((\u001b[38;5;241m2\u001b[39m,\u001b[38;5;241m2\u001b[39m)),\n\u001b[0;32m      6\u001b[0m     Conv2D(\u001b[38;5;241m128\u001b[39m,(\u001b[38;5;241m3\u001b[39m,\u001b[38;5;241m3\u001b[39m),activation \u001b[38;5;241m=\u001b[39m \u001b[38;5;124m'\u001b[39m\u001b[38;5;124mrelu\u001b[39m\u001b[38;5;124m'\u001b[39m),\n\u001b[0;32m      7\u001b[0m     MaxPooling2D((\u001b[38;5;241m2\u001b[39m,\u001b[38;5;241m2\u001b[39m)),\n\u001b[0;32m      8\u001b[0m     Flatten(),\n\u001b[0;32m      9\u001b[0m     Dense(\u001b[38;5;241m512\u001b[39m,activation\u001b[38;5;241m=\u001b[39m\u001b[38;5;124m'\u001b[39m\u001b[38;5;124mrelu\u001b[39m\u001b[38;5;124m'\u001b[39m),\n\u001b[0;32m     10\u001b[0m     Dropout(\u001b[38;5;241m0.5\u001b[39m),\n\u001b[0;32m     11\u001b[0m     Dense(\u001b[38;5;241m1\u001b[39m,activation\u001b[38;5;241m=\u001b[39m\u001b[38;5;124m'\u001b[39m\u001b[38;5;124msoftmax\u001b[39m\u001b[38;5;124m'\u001b[39m)\n\u001b[0;32m     12\u001b[0m ])\n",
      "\u001b[1;31mNameError\u001b[0m: name 'Sequential' is not defined"
     ]
    }
   ],
   "source": [
    "model = Sequential([\n",
    "    Conv2D(32,(3,3), activation='relu',input_shape=(150,150,3)),\n",
    "    MaxPooling2D((2,2)),\n",
    "    Conv2D(64,(3,3), activation = 'relu'),\n",
    "    MaxPooling2D((2,2)),\n",
    "    Conv2D(128,(3,3),activation = 'relu'),\n",
    "    MaxPooling2D((2,2)),\n",
    "    Flatten(),\n",
    "    Dense(512,activation='relu'),\n",
    "    Dropout(0.5),\n",
    "    Dense(1,activation='sigmoid')\n",
    "])"
   ]
  },
  {
   "cell_type": "code",
   "execution_count": 9,
   "id": "5fa76567-3465-4af8-9f90-72eb3c124724",
   "metadata": {},
   "outputs": [],
   "source": [
    "model.compile(optimizer = Adam(learning_rate=0.001),\n",
    "             loss = 'binary_crossentropy',\n",
    "             metrics = ['accuracy'])"
   ]
  },
  {
   "cell_type": "code",
   "execution_count": 10,
   "id": "111fea2f-0f38-4461-a6f1-383df48ba4a9",
   "metadata": {},
   "outputs": [
    {
     "name": "stdout",
     "output_type": "stream",
     "text": [
      "Epoch 1/30\n",
      "141/156 [==========================>...] - ETA: 59s - loss: 0.6403 - accuracy: 0.6267 "
     ]
    },
    {
     "name": "stderr",
     "output_type": "stream",
     "text": [
      "E:\\Anaconda\\envs\\Tf_Env\\lib\\site-packages\\PIL\\TiffImagePlugin.py:900: UserWarning: Truncated File Read\n",
      "  warnings.warn(str(msg))\n"
     ]
    },
    {
     "name": "stdout",
     "output_type": "stream",
     "text": [
      "156/156 [==============================] - 635s 4s/step - loss: 0.6372 - accuracy: 0.6311 - val_loss: 0.5791 - val_accuracy: 0.6854\n",
      "Epoch 2/30\n",
      "156/156 [==============================] - 640s 4s/step - loss: 0.5894 - accuracy: 0.6818 - val_loss: 0.5226 - val_accuracy: 0.7504\n",
      "Epoch 3/30\n",
      "156/156 [==============================] - 620s 4s/step - loss: 0.5569 - accuracy: 0.7131 - val_loss: 0.4654 - val_accuracy: 0.7841\n",
      "Epoch 4/30\n",
      "156/156 [==============================] - 704s 5s/step - loss: 0.5259 - accuracy: 0.7367 - val_loss: 0.4445 - val_accuracy: 0.7998\n",
      "Epoch 5/30\n",
      "156/156 [==============================] - 591s 4s/step - loss: 0.5002 - accuracy: 0.7548 - val_loss: 0.4248 - val_accuracy: 0.8133\n",
      "Epoch 6/30\n",
      "156/156 [==============================] - 500s 3s/step - loss: 0.4861 - accuracy: 0.7637 - val_loss: 0.4871 - val_accuracy: 0.7903\n",
      "Epoch 7/30\n",
      "156/156 [==============================] - 510s 3s/step - loss: 0.4677 - accuracy: 0.7730 - val_loss: 0.4061 - val_accuracy: 0.8125\n",
      "Epoch 8/30\n",
      "156/156 [==============================] - 496s 3s/step - loss: 0.4506 - accuracy: 0.7885 - val_loss: 0.3860 - val_accuracy: 0.8228\n",
      "Epoch 9/30\n",
      "156/156 [==============================] - 487s 3s/step - loss: 0.4312 - accuracy: 0.8000 - val_loss: 0.3465 - val_accuracy: 0.8479\n",
      "Epoch 10/30\n",
      "156/156 [==============================] - 483s 3s/step - loss: 0.4210 - accuracy: 0.8051 - val_loss: 0.3247 - val_accuracy: 0.8602\n",
      "Epoch 11/30\n",
      "156/156 [==============================] - 593s 4s/step - loss: 0.4131 - accuracy: 0.8156 - val_loss: 0.3375 - val_accuracy: 0.8540\n",
      "Epoch 12/30\n",
      "156/156 [==============================] - 735s 5s/step - loss: 0.4019 - accuracy: 0.8190 - val_loss: 0.3370 - val_accuracy: 0.8594\n",
      "Epoch 13/30\n",
      "156/156 [==============================] - 490s 3s/step - loss: 0.3918 - accuracy: 0.8234 - val_loss: 0.2893 - val_accuracy: 0.8906\n",
      "Epoch 14/30\n",
      "156/156 [==============================] - 598s 4s/step - loss: 0.3690 - accuracy: 0.8362 - val_loss: 0.2909 - val_accuracy: 0.8750\n",
      "Epoch 15/30\n",
      "156/156 [==============================] - 531s 3s/step - loss: 0.3583 - accuracy: 0.8412 - val_loss: 0.2790 - val_accuracy: 0.8910\n",
      "Epoch 16/30\n",
      "156/156 [==============================] - 800s 5s/step - loss: 0.3442 - accuracy: 0.8505 - val_loss: 0.2563 - val_accuracy: 0.8993\n",
      "Epoch 17/30\n",
      "156/156 [==============================] - 831s 5s/step - loss: 0.3389 - accuracy: 0.8534 - val_loss: 0.2632 - val_accuracy: 0.8910\n",
      "Epoch 18/30\n",
      "156/156 [==============================] - 772s 5s/step - loss: 0.3350 - accuracy: 0.8546 - val_loss: 0.2608 - val_accuracy: 0.8886\n",
      "Epoch 19/30\n",
      "156/156 [==============================] - 796s 5s/step - loss: 0.3261 - accuracy: 0.8571 - val_loss: 0.2586 - val_accuracy: 0.8890\n",
      "Epoch 20/30\n",
      "156/156 [==============================] - 766s 5s/step - loss: 0.3153 - accuracy: 0.8663 - val_loss: 0.3003 - val_accuracy: 0.8701\n",
      "Epoch 21/30\n",
      "156/156 [==============================] - 767s 5s/step - loss: 0.3077 - accuracy: 0.8694 - val_loss: 0.2354 - val_accuracy: 0.9095\n",
      "Epoch 22/30\n",
      "156/156 [==============================] - 759s 5s/step - loss: 0.3038 - accuracy: 0.8677 - val_loss: 0.2299 - val_accuracy: 0.9025\n",
      "Epoch 23/30\n",
      "156/156 [==============================] - 753s 5s/step - loss: 0.2954 - accuracy: 0.8728 - val_loss: 0.2149 - val_accuracy: 0.9104\n",
      "Epoch 24/30\n",
      "156/156 [==============================] - 518s 3s/step - loss: 0.2889 - accuracy: 0.8752 - val_loss: 0.2235 - val_accuracy: 0.9104\n",
      "Epoch 25/30\n",
      "156/156 [==============================] - 487s 3s/step - loss: 0.2799 - accuracy: 0.8818 - val_loss: 0.2206 - val_accuracy: 0.9132\n",
      "Epoch 26/30\n",
      "156/156 [==============================] - 484s 3s/step - loss: 0.2770 - accuracy: 0.8818 - val_loss: 0.2032 - val_accuracy: 0.9149\n",
      "Epoch 27/30\n",
      "156/156 [==============================] - 532s 3s/step - loss: 0.2718 - accuracy: 0.8831 - val_loss: 0.2027 - val_accuracy: 0.9198\n",
      "Epoch 28/30\n",
      "156/156 [==============================] - 606s 4s/step - loss: 0.2748 - accuracy: 0.8817 - val_loss: 0.1909 - val_accuracy: 0.9256\n",
      "Epoch 29/30\n",
      "156/156 [==============================] - 490s 3s/step - loss: 0.2693 - accuracy: 0.8861 - val_loss: 0.1921 - val_accuracy: 0.9248\n",
      "Epoch 30/30\n",
      "156/156 [==============================] - 518s 3s/step - loss: 0.2543 - accuracy: 0.8908 - val_loss: 0.1899 - val_accuracy: 0.9235\n"
     ]
    }
   ],
   "source": [
    "history = model.fit(\n",
    "    train_generator,\n",
    "    steps_per_epoch = train_generator.samples // train_generator.batch_size,\n",
    "    epochs = 30,\n",
    "    validation_data = val_generator,\n",
    "    validation_steps = val_generator.samples // val_generator.batch_size\n",
    ")"
   ]
  },
  {
   "cell_type": "code",
   "execution_count": 11,
   "id": "2c94e9db-8abd-4202-8322-0e0779c66791",
   "metadata": {},
   "outputs": [],
   "source": [
    "acc = history.history['accuracy']\n",
    "val_acc = history.history['val_accuracy']\n",
    "loss = history.history['loss']\n",
    "val_loss = history.history['val_loss']\n",
    "\n",
    "epochs_range = range(len(acc))"
   ]
  },
  {
   "cell_type": "markdown",
   "id": "f2aa552b-ef4c-4ff5-923a-f0e8bda85e55",
   "metadata": {},
   "source": [
    "# Accuracy and Loss"
   ]
  },
  {
   "cell_type": "code",
   "execution_count": 12,
   "id": "1ea73c88-cc57-4c9c-84da-9ba197df530f",
   "metadata": {},
   "outputs": [
    {
     "data": {
      "text/plain": [
       "Text(0.5, 1.0, 'Training and Validation Accuracy')"
      ]
     },
     "execution_count": 12,
     "metadata": {},
     "output_type": "execute_result"
    },
    {
     "data": {
      "image/png": "[encoded data removed]",
      "text/plain": [
       "<Figure size 800x800 with 1 Axes>"
      ]
     },
     "metadata": {},
     "output_type": "display_data"
    }
   ],
   "source": [
    "plt.figure(figsize=(8, 8))\n",
    "plt.subplot(1, 2, 1)\n",
    "plt.plot(epochs_range, acc, label='Training Accuracy')\n",
    "plt.plot(epochs_range, val_acc, label='Validation Accuracy')\n",
    "plt.legend(loc='lower right')\n",
    "plt.title('Training and Validation Accuracy')"
   ]
  },
  {
   "cell_type": "code",
   "execution_count": 13,
   "id": "8d3d7cb3-a399-4ed9-8415-6eba574feaec",
   "metadata": {},
   "outputs": [
    {
     "data": {
      "image/png": "[encoded data removed]",
      "text/plain": [
       "<Figure size 640x480 with 1 Axes>"
      ]
     },
     "metadata": {},
     "output_type": "display_data"
    }
   ],
   "source": [
    "plt.subplot(1, 2, 2)\n",
    "plt.plot(epochs_range, loss, label='Training Loss')\n",
    "plt.plot(epochs_range, val_loss, label='Validation Loss')\n",
    "plt.legend(loc='upper right')\n",
    "plt.title('Training and Validation Loss')\n",
    "plt.show()"
   ]
  },
  {
   "cell_type": "markdown",
   "id": "d30e2faf-1f1f-4218-a897-ffd37831ceb9",
   "metadata": {},
   "source": [
    "# Test Accuracy"
   ]
  },
  {
   "cell_type": "code",
   "execution_count": 14,
   "id": "f0084716-62d9-4687-9191-355b1b9dead9",
   "metadata": {},
   "outputs": [
    {
     "name": "stdout",
     "output_type": "stream",
     "text": [
      "19/19 [==============================] - 33s 2s/step - loss: 0.2041 - accuracy: 0.9137\n",
      "Test Accuracy: 0.9136512875556946\n"
     ]
    }
   ],
   "source": [
    "test_loss, test_acc = model.evaluate(test_generator, steps=test_generator.samples // test_generator.batch_size)\n",
    "print(f\"Test Accuracy: {test_acc}\")"
   ]
  },
  {
   "cell_type": "code",
   "execution_count": 21,
   "id": "06a68dec-2a95-4bd5-93fb-fe0a410ec84a",
   "metadata": {},
   "outputs": [
    {
     "data": {
      "image/png": "[encoded data removed]",
      "text/plain": [
       "<Figure size 200x600 with 1 Axes>"
      ]
     },
     "metadata": {},
     "output_type": "display_data"
    }
   ],
   "source": [
    "plt.figure(figsize=(2, 6))\n",
    "plt.bar(['Test Accuracy'], [test_acc], color='grey')\n",
    "plt.ylim(0, 1)\n",
    "plt.ylabel('Accuracy')\n",
    "plt.title('Test Accuracy')\n",
    "plt.show()"
   ]
  },
  {
   "cell_type": "markdown",
   "id": "d296d0d4-26c2-4179-9051-a871ab106b2d",
   "metadata": {},
   "source": [
    "# Testing Model on Pics"
   ]
  },
  {
   "cell_type": "code",
   "execution_count": 22,
   "id": "8e903930-81b9-44fd-8ce3-00f4654b54fb",
   "metadata": {},
   "outputs": [],
   "source": [
    "def preprocess_image(img_path):\n",
    "    img = image.load_img(img_path, target_size=(150, 150))  \n",
    "    img_array = image.img_to_array(img)  \n",
    "    img_array = np.expand_dims(img_array, axis=0)  \n",
    "    img_array = img_array / 255.0 \n",
    "    return img_array"
   ]
  },
  {
   "cell_type": "code",
   "execution_count": 23,
   "id": "db6dc968-d4f5-4bce-b5cd-256e68bd73b7",
   "metadata": {},
   "outputs": [],
   "source": [
    "def predict_image(model, img_path):\n",
    "    processed_image = preprocess_image(img_path)\n",
    "    prediction = model.predict(processed_image)\n",
    "    \n",
    "    if prediction[0] < 0.5:\n",
    "        print(\"The image is predicted to be a cat.\")\n",
    "    else:\n",
    "        print(\"The image is predicted to be a dog.\")"
   ]
  },
  {
   "cell_type": "code",
   "execution_count": 27,
   "id": "baeb1fb2-e763-4385-9bd8-ecb13a65703c",
   "metadata": {},
   "outputs": [
    {
     "data": {
      "image/jpeg": "[encoded data removed]",
      "text/plain": [
       "<IPython.core.display.Image object>"
      ]
     },
     "metadata": {
      "image/jpeg": {
       "height": 300,
       "width": 300
      }
     },
     "output_type": "display_data"
    }
   ],
   "source": [
    "from IPython.display import Image, display\n",
    "image_path = 'C:\\\\Users\\\\zeesh\\\\Downloads\\\\images.jpeg'\n",
    "display(Image(filename=image_path, width=300, height=300))"
   ]
  },
  {
   "cell_type": "code",
   "execution_count": 30,
   "id": "63acd170-10e1-4928-9e3e-f52d8193e440",
   "metadata": {},
   "outputs": [
    {
     "name": "stdout",
     "output_type": "stream",
     "text": [
      "1/1 [==============================] - 0s 59ms/step\n",
      "The image is predicted to be a dog.\n"
     ]
    }
   ],
   "source": [
    "test_image_path = 'C:\\\\Users\\\\zeesh\\\\Downloads\\\\images.jpeg'\n",
    "predict_image(model, test_image_path)"
   ]
  },
  {
   "cell_type": "code",
   "execution_count": 29,
   "id": "7f1bd1c6-149b-493a-b4ef-4465d8c8bdd3",
   "metadata": {},
   "outputs": [
    {
     "data": {
      "image/jpeg": "[encoded data removed]",
      "text/plain": [
       "<IPython.core.display.Image object>"
      ]
     },
     "metadata": {
      "image/jpeg": {
       "height": 300,
       "width": 300
      }
     },
     "output_type": "display_data"
    }
   ],
   "source": [
    "from IPython.display import Image, display\n",
    "image_path = 'C:\\\\Users\\\\zeesh\\\\Downloads\\\\image.jpeg'\n",
    "display(Image(filename=image_path, width=300, height=300))"
   ]
  },
  {
   "cell_type": "code",
   "execution_count": 31,
   "id": "482f5f7d-3f6a-4de7-9cd7-d446ce0730a1",
   "metadata": {},
   "outputs": [
    {
     "name": "stdout",
     "output_type": "stream",
     "text": [
      "1/1 [==============================] - 0s 62ms/step\n",
      "The image is predicted to be a cat.\n"
     ]
    }
   ],
   "source": [
    "test_image_path = 'C:\\\\Users\\\\zeesh\\\\Downloads\\\\image.jpeg'\n",
    "predict_image(model, test_image_path)"
   ]
  },
  {
   "cell_type": "code",
   "execution_count": 33,
   "id": "285d0904-b0c1-4ff5-87b0-e3128afd56e5",
   "metadata": {},
   "outputs": [
    {
     "name": "stdout",
     "output_type": "stream",
     "text": [
      "1/1 [==============================] - 0s 421ms/step\n",
      "The image is predicted to be a dog.\n"
     ]
    }
   ],
   "source": [
    "test_image_path = 'C:\\\\Users\\\\zeesh\\\\Downloads\\\\dog1.jpg'\n",
    "predict_image(model, test_image_path)"
   ]
  },
  {
   "cell_type": "code",
   "execution_count": null,
   "id": "a455ee9b-ed2e-47a4-91e3-b43744883f51",
   "metadata": {},
   "outputs": [],
   "source": []
  }
 ],
 "metadata": {
  "kernelspec": {
   "display_name": "Python 3 (ipykernel)",
   "language": "python",
   "name": "python3"
  },
  "language_info": {
   "codemirror_mode": {
    "name": "ipython",
    "version": 3
   },
   "file_extension": ".py",
   "mimetype": "text/x-python",
   "name": "python",
   "nbconvert_exporter": "python",
   "pygments_lexer": "ipython3",
   "version": "3.10.14"
  }
 },
 "nbformat": 4,
 "nbformat_minor": 5
}
